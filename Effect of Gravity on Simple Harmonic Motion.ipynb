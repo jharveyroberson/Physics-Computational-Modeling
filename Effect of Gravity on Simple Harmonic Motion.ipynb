{
 "cells": [
  {
   "cell_type": "code",
   "execution_count": null,
   "metadata": {},
   "outputs": [],
   "source": [
    "import vpython as vp"
   ]
  },
  {
   "cell_type": "code",
   "execution_count": null,
   "metadata": {},
   "outputs": [],
   "source": [
    "scene = vp.canvas()\n",
    "\n",
    "# Define Shapes\n",
    "\n",
    "Wall = vp.box(pos = vp.vector(0, 0, 0),\n",
    "              size = vp.vector(1, 0.1, 2),\n",
    "              texture = vp.textures.wood_old)\n",
    "Wall_H = vp.box(pos = vp.vector(-4, 0, 0),\n",
    "              size = vp.vector(0.1, 2, 2),\n",
    "              texture = vp.textures.wood_old)\n",
    "              \n",
    "Bob_H = vp.sphere(color = vp.vector(0, 0, 1),\n",
    "                  pos = Wall.pos + vp.vector(0, -4, 0),\n",
    "                  radius = 0.2,\n",
    "                  mass = 1,\n",
    "                  vel = vp.vector(0, 0, 0),\n",
    "                  acc = vp.vector(0, 0, 0))\n",
    "Bob_Up = vp.sphere(color = vp.vector(0, 0, 1),\n",
    "                  pos = Wall_H.pos + vp.vector(2, 0, 0),\n",
    "                  radius = 0.5,\n",
    "                  mass = 1,\n",
    "                  vel = vp.vector(0, 0, 0),\n",
    "                  acc = vp.vector(0, 0, 0))\n",
    "                \n",
    "Spring_H = vp.helix(pos = Wall.pos,\n",
    "                    axis = Bob_H.pos - Wall.pos + vp.vector(0, Bob_H.radius, 0),\n",
    "                    color = vp.vector(1, 1, 0),\n",
    "                    radius = 0.25)\n",
    "Spring_Up = vp.helix(pos = Wall_H.pos,\n",
    "                    axis = Bob_H.pos - Wall_H.pos - vp.vector(Bob_Up.radius, 0, 0),\n",
    "                    color = vp.vector(1, 1, 0),\n",
    "                    radius = 0.25)\n"
   ]
  },
  {
   "cell_type": "code",
   "execution_count": null,
   "metadata": {},
   "outputs": [],
   "source": [
    "# Define Physical Parameters\n",
    "\n",
    "k = 10                    # spring constant for both springs, in N/m\n",
    "g = vp.vector(0, -9.8, 0)    # gravitational field, in N/kg \n",
    "\n",
    "# Initial Conditions\n",
    "\n",
    "Spring_H.eq_length = vp.mag(Spring_H.axis)\n",
    "initial_stretch = vp.vector(0,-1,0)\n",
    "initial_shrink = vp.vector(1,0,0)\n",
    "Bob_H.pos = Bob_H.pos + initial_stretch\n",
    "Bob_Up.pos = Bob_Up.pos + initial_shrink\n",
    "\n",
    "t = 0\n",
    "dt = 0.01\n",
    "\n",
    "# Simulation\n",
    "\n",
    "while True:\n",
    "    vp.rate(1 / dt)\n",
    "    \n",
    "    Bob_H.F_net = -k * (Spring_H.axis - (vp.vector(0, -1, 0) * Spring_H.eq_length)) - (Bob_H.mass * g)\n",
    "    Bob_Up.F_net = -k * (Spring_Up.axis - (vp.vector(1, 0, 0) * Spring_H.eq_length))\n",
    "    #Bob_V.F_net = \n",
    "    \n",
    "    Bob_H.acc = Bob_H.F_net / Bob_H.mass\n",
    "    Bob_Up.acc = Bob_Up.F_net / Bob_Up.mass\n",
    "    #Bob_V.acc = \n",
    "    \n",
    "    Bob_H.vel = Bob_H.vel + Bob_H.acc * dt\n",
    "    Bob_Up.vel = Bob_Up.vel + Bob_Up.acc * dt\n",
    "    #Bob_V.vel = \n",
    "\n",
    "    Bob_H.pos = Bob_H.pos + Bob_H.vel * dt\n",
    "    Bob_Up.pos = Bob_Up.pos + Bob_Up.vel * dt\n",
    "    #Bob_V.pos = \n",
    "    \n",
    "    Spring_H.axis = Bob_H.pos - Wall.pos - vp.vector(0, -Bob_H.radius, 0)\n",
    "    Spring_Up.axis = Bob_Up.pos - Wall_H.pos - vp.vector(Bob_Up.radius, 0, 0)\n",
    "    #Spring_V.axis \n",
    "    \n",
    "    t = t + dt\n"
   ]
  },
  {
   "cell_type": "code",
   "execution_count": null,
   "metadata": {},
   "outputs": [],
   "source": []
  }
 ],
 "metadata": {
  "kernelspec": {
   "display_name": "Python 3",
   "language": "python",
   "name": "python3"
  },
  "language_info": {
   "codemirror_mode": {
    "name": "ipython",
    "version": 3
   },
   "file_extension": ".py",
   "mimetype": "text/x-python",
   "name": "python",
   "nbconvert_exporter": "python",
   "pygments_lexer": "ipython3",
   "version": "3.8.3"
  }
 },
 "nbformat": 4,
 "nbformat_minor": 2
}
