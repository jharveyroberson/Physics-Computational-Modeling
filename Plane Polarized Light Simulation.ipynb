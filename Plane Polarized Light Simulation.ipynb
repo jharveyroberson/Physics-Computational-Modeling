{
 "cells": [
  {
   "cell_type": "code",
   "execution_count": null,
   "metadata": {
    "scrolled": false
   },
   "outputs": [],
   "source": [
    "from vpython import *"
   ]
  },
  {
   "cell_type": "code",
   "execution_count": null,
   "metadata": {},
   "outputs": [],
   "source": [
    "# Fundamental constants\n",
    "Om = 2 # Omega\n",
    "k = 4   # wave equation constant\n",
    "Z = 100   # Number of vector components\n",
    "w = 10   # Range in x direction\n",
    "t = 0 \n",
    "dt = 0.01"
   ]
  },
  {
   "cell_type": "code",
   "execution_count": null,
   "metadata": {},
   "outputs": [],
   "source": [
    "# Polarizing filter\n",
    "polfilt = box(pos = vector(6,0, 0),\n",
    "              size = vector(0.1, 4,4))\n",
    "E = []\n",
    "B = []\n",
    "R = []\n",
    "\n",
    "for y in range(0, Z):\n",
    "    if y < 60:\n",
    "        tcompE = arrow(pos = vector((y/Z)*w, 0, 0), \n",
    "                      axis = vector(0,1,0),\n",
    "                      color = color.red)\n",
    "        tcompB = arrow(pos = vector((y/Z)*w, 0, 0), \n",
    "                      axis = vector(0,0,1),\n",
    "                      color = color.blue)\n",
    "        tcompR = arrow(pos = vector((y/Z)*w, 0, 0), \n",
    "                      axis = vector(0,sqrt(2)/2,sqrt(2)/2),\n",
    "                      color = color.magenta)\n",
    "        E.append(tcompE)\n",
    "        B.append(tcompB)\n",
    "        R.append(tcompR)\n",
    "    else:\n",
    "        tcompE = arrow(pos = vector((y/Z)*w, 0, 0), \n",
    "                       axis = vector(0, 1, 0),\n",
    "                       color = color.red)\n",
    "        E.append(tcompE)   "
   ]
  },
  {
   "cell_type": "markdown",
   "metadata": {},
   "source": [
    "polfilt is the polarization filter, mideled as a thin box. Three empty lists are used to hold electric, magnetic and resultant field vector components. The components are defined for each field in the next if statement from 0-60, where the wave will travel before hitting the polarization filter. Each component has a position defined in the x direction that assigns vector arrows to 100 positions equally spaced along the x-axis. Axes are defined for each component, E in the y direction, B in the z direction, and R in between the y and z. The end of the if statement is serving to assign only the electric field components to positions past 60, where the wave gets polarized. "
   ]
  },
  {
   "cell_type": "code",
   "execution_count": null,
   "metadata": {},
   "outputs": [],
   "source": [
    "def Psi(x,t):    \n",
    "    \"\"\"\n",
    "    Wave formula function -- takes 2 variables as inputs and outputs a wave\n",
    "    \"\"\"\n",
    "    psi = sin(Om*x - k*t)\n",
    "    return psi\n",
    "\n",
    "while t < 100:\n",
    "    rate(80)\n",
    "    for i in range(0, 0):\n",
    "        # Define Transverse wave\n",
    "        twave = Psi((i/100)*w,t)\n",
    "        # Electric Field\n",
    "        E[i].axis = vector(0, twave, 0)\n",
    "        # Magnetic Field\n",
    "        B[i].axis = vector(0, 0, twave)\n",
    "        # Resultant wave\n",
    "        R[i].axis = vector(0, twave, twave)\n",
    "        \n",
    "    for p in E:\n",
    "        for i in range(len(E)):\n",
    "            if i < 40:\n",
    "                twave = Psi(((i+60)/100)*w, t)\n",
    "                E[(i+60)].axis = vector(0, twave, 0)\n",
    "        \n",
    "    t = t + dt\n",
    "       "
   ]
  },
  {
   "cell_type": "markdown",
   "metadata": {},
   "source": [
    "The wave equation psi is a traveling wave with two variables, x and t. The next while loop is defining a new variable to be placed in the Psi function using the same method as before. Referring to the appended lists, instead of y it is now i and the axis for vector components for each field are defined by placing the twave function containing the i variable into the vector axis. This block serves to actually get the arrows to oscillate according to the wave equation and in which direction. This method was very convenient because I easy appended 100 vector components and got them to oscillate using just open lists and for loops."
   ]
  }
 ],
 "metadata": {
  "kernelspec": {
   "display_name": "Python 3",
   "language": "python",
   "name": "python3"
  },
  "language_info": {
   "codemirror_mode": {
    "name": "ipython",
    "version": 3
   },
   "file_extension": ".py",
   "mimetype": "text/x-python",
   "name": "python",
   "nbconvert_exporter": "python",
   "pygments_lexer": "ipython3",
   "version": "3.8.3"
  }
 },
 "nbformat": 4,
 "nbformat_minor": 2
}
