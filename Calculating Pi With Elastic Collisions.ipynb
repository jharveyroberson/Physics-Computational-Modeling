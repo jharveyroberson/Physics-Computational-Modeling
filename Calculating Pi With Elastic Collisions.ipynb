{
 "cells": [
  {
   "cell_type": "code",
   "execution_count": 1,
   "metadata": {},
   "outputs": [
    {
     "data": {
      "text/html": [
       "<div id=\"glowscript\" class=\"glowscript\"></div>"
      ],
      "text/plain": [
       "<IPython.core.display.HTML object>"
      ]
     },
     "metadata": {},
     "output_type": "display_data"
    },
    {
     "data": {
      "application/javascript": [
       "if (typeof Jupyter !== \"undefined\") { window.__context = { glowscript_container: $(\"#glowscript\").removeAttr(\"id\")};}else{ element.textContent = ' ';}"
      ],
      "text/plain": [
       "<IPython.core.display.Javascript object>"
      ]
     },
     "metadata": {},
     "output_type": "display_data"
    }
   ],
   "source": [
    "from vpython import *"
   ]
  },
  {
   "cell_type": "code",
   "execution_count": 2,
   "metadata": {},
   "outputs": [
    {
     "data": {
      "text/html": [
       "<div id=\"glowscript\" class=\"glowscript\"></div>"
      ],
      "text/plain": [
       "<IPython.core.display.HTML object>"
      ]
     },
     "metadata": {},
     "output_type": "display_data"
    },
    {
     "data": {
      "application/javascript": [
       "if (typeof Jupyter !== \"undefined\") { window.__context = { glowscript_container: $(\"#glowscript\").removeAttr(\"id\")};}else{ element.textContent = ' ';}"
      ],
      "text/plain": [
       "<IPython.core.display.Javascript object>"
      ]
     },
     "metadata": {},
     "output_type": "display_data"
    },
    {
     "data": {
      "application/javascript": [
       "if (typeof Jupyter !== \"undefined\") {require.undef(\"nbextensions/vpython_libraries/glow.min\");}else{element.textContent = ' ';}"
      ],
      "text/plain": [
       "<IPython.core.display.Javascript object>"
      ]
     },
     "metadata": {},
     "output_type": "display_data"
    },
    {
     "data": {
      "application/javascript": [
       "if (typeof Jupyter !== \"undefined\") {require.undef(\"nbextensions/vpython_libraries/glowcomm\");}else{element.textContent = ' ';}"
      ],
      "text/plain": [
       "<IPython.core.display.Javascript object>"
      ]
     },
     "metadata": {},
     "output_type": "display_data"
    },
    {
     "data": {
      "application/javascript": [
       "if (typeof Jupyter !== \"undefined\") {require.undef(\"nbextensions/vpython_libraries/jquery-ui.custom.min\");}else{element.textContent = ' ';}"
      ],
      "text/plain": [
       "<IPython.core.display.Javascript object>"
      ]
     },
     "metadata": {},
     "output_type": "display_data"
    },
    {
     "data": {
      "application/javascript": [
       "if (typeof Jupyter !== \"undefined\") {require([\"nbextensions/vpython_libraries/glow.min\"], function(){console.log(\"GLOW LOADED\");});}else{element.textContent = ' ';}"
      ],
      "text/plain": [
       "<IPython.core.display.Javascript object>"
      ]
     },
     "metadata": {},
     "output_type": "display_data"
    },
    {
     "data": {
      "application/javascript": [
       "if (typeof Jupyter !== \"undefined\") {require([\"nbextensions/vpython_libraries/glowcomm\"], function(){console.log(\"GLOWCOMM LOADED\");});}else{element.textContent = ' ';}"
      ],
      "text/plain": [
       "<IPython.core.display.Javascript object>"
      ]
     },
     "metadata": {},
     "output_type": "display_data"
    },
    {
     "data": {
      "application/javascript": [
       "if (typeof Jupyter !== \"undefined\") {require([\"nbextensions/vpython_libraries/jquery-ui.custom.min\"], function(){console.log(\"JQUERY LOADED\");});}else{element.textContent = ' ';}"
      ],
      "text/plain": [
       "<IPython.core.display.Javascript object>"
      ]
     },
     "metadata": {},
     "output_type": "display_data"
    }
   ],
   "source": [
    "canvas()\n",
    "\n",
    "ball_1 = sphere(pos = vector(0,-1.5,0),\n",
    "                radius = 1,\n",
    "                mass = 1,\n",
    "                color = color.cyan,\n",
    "                velocity = vector(0,0,0))\n",
    "\n",
    "ball_2 = sphere(pos = vector(5,-1,0),\n",
    "                radius = 1.5,\n",
    "                mass = 100e4,\n",
    "                color = color.red,\n",
    "                velocity = vector(-1,0,0))\n",
    "\n",
    "wall_1 = box(pos = vector(-10,0,0),\n",
    "             size = vector(0.1,5,5))\n",
    "\n",
    "wall_2 = box(pos = vector(0,-2.5,0),\n",
    "             size = vector(20,0.2,5))\n",
    "\n",
    "\n",
    "comv = (ball_1.mass*ball_1.velocity+ball_2.mass*ball_2.velocity)/(ball_1.mass+ball_2.mass)"
   ]
  },
  {
   "cell_type": "code",
   "execution_count": 3,
   "metadata": {},
   "outputs": [],
   "source": [
    "def collision (ball_1, ball_2):\n",
    "    b1_cmv = ball_1.velocity - comv\n",
    "    b2_cmv = ball_2.velocity - comv\n",
    "    b1_cmv = -b1_cmv\n",
    "    b2_cmv = -b2_cmv\n",
    "    ball_1.velocity = b1_cmv + comv\n",
    "    ball_2.velocity = b2_cmv + comv"
   ]
  },
  {
   "cell_type": "code",
   "execution_count": 4,
   "metadata": {},
   "outputs": [],
   "source": [
    "try:\n",
    "    t = 0\n",
    "    dt = 0.001\n",
    "    collision_count = 0\n",
    "    while t < 100:\n",
    "        rate(2000)\n",
    "        ball_1.pos = ball_1.pos + ball_1.velocity*dt\n",
    "        ball_2.pos = ball_2.pos + ball_2.velocity*dt\n",
    "\n",
    "        comv = (ball_1.mass*ball_1.velocity+ball_2.mass*ball_2.velocity)/(ball_1.mass+ball_2.mass)\n",
    "\n",
    "        if (ball_2.pos.x - ball_1.pos.x) < ball_1.radius + ball_2.radius:\n",
    "            collision(ball_1, ball_2)\n",
    "            collision_count = collision_count + 1\n",
    "            \n",
    "        if ball_1.pos.x - ball_1.radius <= wall_1.pos.x + wall_1.size.x:\n",
    "            ball_1.velocity = -1*ball_1.velocity\n",
    "            collision_count = collision_count + 1\n",
    "            \n",
    "        t = t + dt\n",
    "        \n",
    "except KeyboardInterrupt:\n",
    "    print(f'The calculated digits of pi based on the number of collisions is {collision_count}')"
   ]
  },
  {
   "cell_type": "code",
   "execution_count": 5,
   "metadata": {},
   "outputs": [
    {
     "name": "stdout",
     "output_type": "stream",
     "text": [
      "3141\n"
     ]
    }
   ],
   "source": [
    "print(collision_count)"
   ]
  },
  {
   "cell_type": "code",
   "execution_count": null,
   "metadata": {},
   "outputs": [],
   "source": []
  }
 ],
 "metadata": {
  "kernelspec": {
   "display_name": "Python 3",
   "language": "python",
   "name": "python3"
  },
  "language_info": {
   "codemirror_mode": {
    "name": "ipython",
    "version": 3
   },
   "file_extension": ".py",
   "mimetype": "text/x-python",
   "name": "python",
   "nbconvert_exporter": "python",
   "pygments_lexer": "ipython3",
   "version": "3.8.3"
  }
 },
 "nbformat": 4,
 "nbformat_minor": 2
}
