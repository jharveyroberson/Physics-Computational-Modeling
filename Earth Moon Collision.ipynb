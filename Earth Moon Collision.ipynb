{
 "cells": [
  {
   "cell_type": "code",
   "execution_count": 1,
   "metadata": {
    "scrolled": false
   },
   "outputs": [
    {
     "data": {
      "text/html": [
       "<div id=\"glowscript\" class=\"glowscript\"></div>"
      ],
      "text/plain": [
       "<IPython.core.display.HTML object>"
      ]
     },
     "metadata": {},
     "output_type": "display_data"
    },
    {
     "data": {
      "application/javascript": [
       "if (typeof Jupyter !== \"undefined\") { window.__context = { glowscript_container: $(\"#glowscript\").removeAttr(\"id\")};}else{ element.textContent = ' ';}"
      ],
      "text/plain": [
       "<IPython.core.display.Javascript object>"
      ]
     },
     "metadata": {},
     "output_type": "display_data"
    }
   ],
   "source": [
    "from vpython import *"
   ]
  },
  {
   "cell_type": "code",
   "execution_count": 2,
   "metadata": {},
   "outputs": [],
   "source": [
    "# define constants\n",
    "G = 6.67e-11\n",
    "Earth_mass = 5.9e24\n",
    "moon_mass = 7.35e22\n",
    "scale_factor = 1"
   ]
  },
  {
   "cell_type": "code",
   "execution_count": 3,
   "metadata": {},
   "outputs": [
    {
     "data": {
      "application/javascript": [
       "if (typeof Jupyter !== \"undefined\") {require.undef(\"nbextensions/vpython_libraries/glow.min\");}else{element.textContent = ' ';}"
      ],
      "text/plain": [
       "<IPython.core.display.Javascript object>"
      ]
     },
     "metadata": {},
     "output_type": "display_data"
    },
    {
     "data": {
      "application/javascript": [
       "if (typeof Jupyter !== \"undefined\") {require.undef(\"nbextensions/vpython_libraries/glowcomm\");}else{element.textContent = ' ';}"
      ],
      "text/plain": [
       "<IPython.core.display.Javascript object>"
      ]
     },
     "metadata": {},
     "output_type": "display_data"
    },
    {
     "data": {
      "application/javascript": [
       "if (typeof Jupyter !== \"undefined\") {require.undef(\"nbextensions/vpython_libraries/jquery-ui.custom.min\");}else{element.textContent = ' ';}"
      ],
      "text/plain": [
       "<IPython.core.display.Javascript object>"
      ]
     },
     "metadata": {},
     "output_type": "display_data"
    },
    {
     "data": {
      "application/javascript": [
       "if (typeof Jupyter !== \"undefined\") {require([\"nbextensions/vpython_libraries/glow.min\"], function(){console.log(\"GLOW LOADED\");});}else{element.textContent = ' ';}"
      ],
      "text/plain": [
       "<IPython.core.display.Javascript object>"
      ]
     },
     "metadata": {},
     "output_type": "display_data"
    },
    {
     "data": {
      "application/javascript": [
       "if (typeof Jupyter !== \"undefined\") {require([\"nbextensions/vpython_libraries/glowcomm\"], function(){console.log(\"GLOWCOMM LOADED\");});}else{element.textContent = ' ';}"
      ],
      "text/plain": [
       "<IPython.core.display.Javascript object>"
      ]
     },
     "metadata": {},
     "output_type": "display_data"
    },
    {
     "data": {
      "application/javascript": [
       "if (typeof Jupyter !== \"undefined\") {require([\"nbextensions/vpython_libraries/jquery-ui.custom.min\"], function(){console.log(\"JQUERY LOADED\");});}else{element.textContent = ' ';}"
      ],
      "text/plain": [
       "<IPython.core.display.Javascript object>"
      ]
     },
     "metadata": {},
     "output_type": "display_data"
    }
   ],
   "source": [
    "# define earth and moon parameters\n",
    "Earth = sphere(pos=vector(0,0,0),\n",
    "              vel=vector(0,0,0),\n",
    "              radius=6.3e6 * scale_factor,\n",
    "              mass=Earth_mass,\n",
    "              texture=textures.earth)\n",
    "\n",
    "Moon = sphere(pos=vector(-3.84e8, 0,0),\n",
    "             vel=vector(0,0,0),\n",
    "             radius=1.74e6 * scale_factor, \n",
    "             mass=moon_mass)"
   ]
  },
  {
   "cell_type": "code",
   "execution_count": 6,
   "metadata": {},
   "outputs": [],
   "source": [
    "# define the radius by subracting the two positions\n",
    "r = Earth.pos - Moon.pos\n",
    "# rhat vector as the norm of the radius\n",
    "rhat = norm(r)\n",
    "\n",
    "# define graph characteristics\n",
    "graph(xtitle = 'time', ytitle = 'distance')\n",
    "pos_graph = gcurve(label = 'center-to-center distance',\n",
    "                  color = color.orange)\n",
    "radiisum = gcurve(label = 'radii sum', color = color.blue)\n",
    "\n",
    "# calculate gravitational force\n",
    "F = -G*Earth.mass*Moon.mass*rhat/(mag(r)**2)\n",
    "scale_factor2 = mag(r)/mag(F)\n",
    "force_arrow = arrow(pos = Moon.pos,\n",
    "                   axis = F*scale_factor2,\n",
    "                   color = color.black)"
   ]
  },
  {
   "cell_type": "code",
   "execution_count": 8,
   "metadata": {},
   "outputs": [],
   "source": [
    "# define radius by subtracting position vectors\n",
    "r = Earth.pos - Moon.pos\n",
    "# define rhat as norm vector\n",
    "rhat = norm(r)\n",
    "\n",
    "t = 0\n",
    "dt = 60\n",
    "# while the two bodies are not in a collision\n",
    "while mag(Earth.pos - Moon.pos) > Earth.radius + Moon.radius:\n",
    "    rate(200)\n",
    "    \n",
    "    r = Earth.pos - Moon.pos\n",
    "    rhat = norm(r)\n",
    "    \n",
    "    # calculate forces each body exerts\n",
    "    F_e = -G*Earth.mass*Moon.mass*rhat/mag(r)**2\n",
    "    F_m = G*Earth.mass*Moon.mass*rhat/mag(r)**2\n",
    "    \n",
    "    # calculate velocities of the bodies\n",
    "    Earth.vel = Earth.vel + (F_e/Earth.mass) * dt\n",
    "    Moon.vel = Moon.vel + (F_m/Moon.mass) * dt\n",
    "    \n",
    "    # calculate change in position\n",
    "    Earth.pos = Earth.pos + Earth.vel * dt\n",
    "    Moon.pos = Moon.pos + Moon.vel * dt\n",
    "    \n",
    "    # change in time\n",
    "    t = t + dt\n",
    "    \n",
    "    # update center-to-center distance and radii sum\n",
    "    pos_graph.plot(t, mag(r))\n",
    "    radiisum.plot(t, Earth.radius + Moon.radius)\n",
    "    "
   ]
  },
  {
   "cell_type": "code",
   "execution_count": 31,
   "metadata": {},
   "outputs": [
    {
     "name": "stdout",
     "output_type": "stream",
     "text": [
      "<9858.63, 0, 0>\n"
     ]
    }
   ],
   "source": [
    "# Moon velocity as it collides with Earth\n",
    "print(Moon.vel)"
   ]
  },
  {
   "cell_type": "code",
   "execution_count": 29,
   "metadata": {},
   "outputs": [
    {
     "name": "stdout",
     "output_type": "stream",
     "text": [
      "The time it takes the Moon to collide with the Earth is 6970.0 days\n"
     ]
    }
   ],
   "source": [
    "print(f'The time it takes the Moon to collide with the Earth is {t/(60)} days')"
   ]
  },
  {
   "cell_type": "code",
   "execution_count": null,
   "metadata": {},
   "outputs": [],
   "source": []
  }
 ],
 "metadata": {
  "kernelspec": {
   "display_name": "Python 3",
   "language": "python",
   "name": "python3"
  },
  "language_info": {
   "codemirror_mode": {
    "name": "ipython",
    "version": 3
   },
   "file_extension": ".py",
   "mimetype": "text/x-python",
   "name": "python",
   "nbconvert_exporter": "python",
   "pygments_lexer": "ipython3",
   "version": "3.8.3"
  }
 },
 "nbformat": 4,
 "nbformat_minor": 2
}
